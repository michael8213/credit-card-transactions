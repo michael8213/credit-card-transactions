{
 "cells": [
  {
   "cell_type": "code",
   "execution_count": 1,
   "metadata": {},
   "outputs": [],
   "source": [
    "#in this project i will analyze transactions made by credit cards in September 2013 by european cardholders.\n",
    "#This dataset presents transactions that occurred in two days, where we have 492 frauds out of 284,807 transactions.\n",
    "#Feature 'Time' contains the seconds elapsed between each transaction and the first transaction in the dataset.\n",
    "#The feature 'Amount' is the transaction Amount, this feature can be used for example-dependant cost-senstive learning.\n",
    "#Feature 'Class' is the response variable and it takes value 1 in case of fraud and 0 otherwise."
   ]
  },
  {
   "cell_type": "code",
   "execution_count": 2,
   "metadata": {},
   "outputs": [],
   "source": [
    "import pandas as pd"
   ]
  },
  {
   "cell_type": "code",
   "execution_count": 3,
   "metadata": {},
   "outputs": [],
   "source": [
    "    #Read data into dataframe called df\n",
    "    url = (r\"C:\\Users\\micha\\OneDrive\\Desktop\\creditcard.csv\")\n",
    "    df = pd.read_csv(url)"
   ]
  },
  {
   "cell_type": "code",
   "execution_count": 4,
   "metadata": {},
   "outputs": [
    {
     "data": {
      "text/plain": [
       "(284807, 3)"
      ]
     },
     "execution_count": 4,
     "metadata": {},
     "output_type": "execute_result"
    }
   ],
   "source": [
    "#filter out relevant columns\n",
    "df = df[[\"Time\",\"Amount\",\"Class\"]]\n",
    "df.shape"
   ]
  },
  {
   "cell_type": "code",
   "execution_count": 5,
   "metadata": {},
   "outputs": [
    {
     "data": {
      "text/plain": [
       "(492, 3)"
      ]
     },
     "execution_count": 5,
     "metadata": {},
     "output_type": "execute_result"
    }
   ],
   "source": [
    "#isolate fraudulant tranasctions table\n",
    "df_fraud = df.loc[df.Class > 0,:]\n",
    "df_fraud.shape"
   ]
  },
  {
   "cell_type": "code",
   "execution_count": 6,
   "metadata": {},
   "outputs": [],
   "source": [
    "#calculate number of fruadulant transactions\n",
    "numFraudTransactions = len(df_fraud)\n",
    "df_wholeNumberFraud = df_fraud[df_fraud['Amount'].astype(int) == df_fraud['Amount']]"
   ]
  },
  {
   "cell_type": "code",
   "execution_count": 7,
   "metadata": {},
   "outputs": [
    {
     "name": "stdout",
     "output_type": "stream",
     "text": [
      "174\n"
     ]
    }
   ],
   "source": [
    "#calculate number of whole number fruadulant transactions\n",
    "numFraudTransactionsWhole = len(df_wholeNumberFraud)\n",
    "print(numFraudTransactionsWhole)"
   ]
  },
  {
   "cell_type": "code",
   "execution_count": 8,
   "metadata": {},
   "outputs": [],
   "source": [
    "#calculate percenatge of  whole number fruadulant transactions\n",
    "percentageOfWholeFraud = float(numFraudTransactionsWhole/numFraudTransactions) * 100"
   ]
  },
  {
   "cell_type": "code",
   "execution_count": 9,
   "metadata": {},
   "outputs": [
    {
     "name": "stdout",
     "output_type": "stream",
     "text": [
      "percent of fraudulant transactions with round amount is 35.365854 percent\n"
     ]
    }
   ],
   "source": [
    "#display percenatge of whole number fraudulant transactions\n",
    "print(\"percent of fraudulant transactions with round amount is %f percent\" % percentageOfWholeFraud)"
   ]
  },
  {
   "cell_type": "code",
   "execution_count": 10,
   "metadata": {},
   "outputs": [],
   "source": [
    "#now we will calculate the percentage of non-fraudulant transactions\n",
    "#we will follow an identical process as we did before"
   ]
  },
  {
   "cell_type": "code",
   "execution_count": 11,
   "metadata": {},
   "outputs": [],
   "source": [
    "df_NonFraud = df.loc[df.Class == 0,:]"
   ]
  },
  {
   "cell_type": "code",
   "execution_count": 12,
   "metadata": {},
   "outputs": [],
   "source": [
    "df_wholeNumberNonFraud = df_NonFraud[df_NonFraud['Amount'].astype(int) == df_NonFraud['Amount']]"
   ]
  },
  {
   "cell_type": "code",
   "execution_count": 13,
   "metadata": {},
   "outputs": [],
   "source": [
    "numberOfWholeNonFraudTransactions = len(df_wholeNumberNonFraud)"
   ]
  },
  {
   "cell_type": "code",
   "execution_count": 14,
   "metadata": {},
   "outputs": [],
   "source": [
    "numberOfNonFraudTransactions = len(df_NonFraud)"
   ]
  },
  {
   "cell_type": "code",
   "execution_count": 15,
   "metadata": {},
   "outputs": [],
   "source": [
    "percentageOfWholeNonFraud = float(numberOfWholeNonFraudTransactions/numberOfNonFraudTransactions) * 100"
   ]
  },
  {
   "cell_type": "code",
   "execution_count": 16,
   "metadata": {},
   "outputs": [
    {
     "name": "stdout",
     "output_type": "stream",
     "text": [
      "percent of fraudulant transactions with round amount is 24.856937 percent\n"
     ]
    }
   ],
   "source": [
    "print(\"percent of fraudulant transactions with round amount is %f percent\" %(percentageOfWholeNonFraud))"
   ]
  },
  {
   "cell_type": "code",
   "execution_count": 17,
   "metadata": {},
   "outputs": [
    {
     "name": "stdout",
     "output_type": "stream",
     "text": [
      "in conclusion a fraudulant transaction has a chance of 35.365854 percent to be whole number\n",
      "          and a regular transaction has a 24.856937 percent percent chance to be whole number\n"
     ]
    }
   ],
   "source": [
    "print(\"\"\"in conclusion a fraudulant transaction has a chance of 35.365854 percent to be whole number\n",
    "          and a regular transaction has a 24.856937 percent percent chance to be whole number\"\"\")\n"
   ]
  }
 ],
 "metadata": {
  "kernelspec": {
   "display_name": "Python 3",
   "language": "python",
   "name": "python3"
  },
  "language_info": {
   "codemirror_mode": {
    "name": "ipython",
    "version": 3
   },
   "file_extension": ".py",
   "mimetype": "text/x-python",
   "name": "python",
   "nbconvert_exporter": "python",
   "pygments_lexer": "ipython3",
   "version": "3.8.5"
  }
 },
 "nbformat": 4,
 "nbformat_minor": 4
}
